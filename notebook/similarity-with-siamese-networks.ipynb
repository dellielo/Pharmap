{
 "cells": [
  {
   "cell_type": "markdown",
   "metadata": {
    "_cell_guid": "194274f5-67fc-46f5-a7b4-d1298181ed0e",
    "_uuid": "004920a0c8f7fa0a7b76c84769d703e91414ca29"
   },
   "source": [
    "# Overview\n",
    "With the kernel I am trying to run a simple test on using Siamese networks for similarity on a slightly more complicated problem than standard MNIST.  The idea is to take a randomly initialized network and apply it to images to find out how similar they are. The models should make it much easier to perform tasks like Visual Search on a database of images since it will have a simple similarity metric between 0 and 1 instead of 2D arrays.\n",
    "\n",
    " * [Source Blog Post](http://sujitpal.blogspot.ch/2017/04/predicting-image-similarity-using.html) with this [notebook](https://github.com/sujitpal/holiday-similarity/blob/master/src/02-holidays-siamese-network.ipynb)"
   ]
  },
  {
   "cell_type": "code",
   "execution_count": 1,
   "metadata": {
    "_cell_guid": "84b0e79e-2070-4000-a76b-8c6f8786117b",
    "_uuid": "7571b744b894ca7d001cf78a7ce17b0939c50eb4"
   },
   "outputs": [
    {
     "name": "stderr",
     "output_type": "stream",
     "text": [
      "Using TensorFlow backend.\n"
     ]
    }
   ],
   "source": [
    "import numpy as np\n",
    "import os\n",
    "import pandas as pd\n",
    "from keras.preprocessing.image import ImageDataGenerator\n",
    "from keras.utils.np_utils import to_categorical\n",
    "import matplotlib.pyplot as plt"
   ]
  },
  {
   "cell_type": "markdown",
   "metadata": {
    "_cell_guid": "aac47efc-c3f8-4e06-852d-e060fcc7170c",
    "_uuid": "901dc01a65cdec0b544a0bc5f86b6584163ffd7d"
   },
   "source": [
    "# Load and Organize Data\n",
    "Here we load and organize the data so we can easily use it inside of Keras models"
   ]
  },
  {
   "cell_type": "code",
   "execution_count": 142,
   "metadata": {
    "_cell_guid": "e79131cd-af9f-47bc-8cc0-41539beaad8d",
    "_uuid": "f172fc2cf53f1d2a8abdc355810cde4e0b1aacaa",
    "collapsed": true
   },
   "outputs": [],
   "source": [
    "from sklearn.model_selection import train_test_split\n",
    "data_train_ori = pd.read_csv('../data/out/coraux_geov2.csv')\n",
    "data_train = data_train_ori\n"
   ]
  },
  {
   "cell_type": "code",
   "execution_count": 184,
   "metadata": {},
   "outputs": [
    {
     "name": "stderr",
     "output_type": "stream",
     "text": [
      "/home/elodiedellier/.local/lib/python2.7/site-packages/ipykernel_launcher.py:4: SettingWithCopyWarning: \n",
      "A value is trying to be set on a copy of a slice from a DataFrame.\n",
      "Try using .loc[row_indexer,col_indexer] = value instead\n",
      "\n",
      "See the caveats in the documentation: http://pandas.pydata.org/pandas-docs/stable/indexing.html#indexing-view-versus-copy\n",
      "  after removing the cwd from sys.path.\n"
     ]
    }
   ],
   "source": [
    "# data_train = data_train_ori[:1000]\n",
    "data_train = data_train_ori\n",
    "data_train = data_train.dropna()\n",
    "data_train['counts'] = data_train.groupby(\"species\")[\"species\"].transform('count')\n",
    "data_train = data_train.sort_values(\"counts\", ascending=False)  \n",
    "data_train = data_train[data_train.counts < 500 ]\n",
    "data_train = data_train[data_train.counts > 200 ]\n",
    "data_train = data_train[:5000]\n",
    "data_train = data_train.reset_index(drop=True)\n"
   ]
  },
  {
   "cell_type": "code",
   "execution_count": 185,
   "metadata": {
    "_cell_guid": "e79131cd-af9f-47bc-8cc0-41539beaad8d",
    "_uuid": "f172fc2cf53f1d2a8abdc355810cde4e0b1aacaa",
    "collapsed": true
   },
   "outputs": [
    {
     "data": {
      "text/html": [
       "<div>\n",
       "<style scoped>\n",
       "    .dataframe tbody tr th:only-of-type {\n",
       "        vertical-align: middle;\n",
       "    }\n",
       "\n",
       "    .dataframe tbody tr th {\n",
       "        vertical-align: top;\n",
       "    }\n",
       "\n",
       "    .dataframe thead th {\n",
       "        text-align: right;\n",
       "    }\n",
       "</style>\n",
       "<table border=\"1\" class=\"dataframe\">\n",
       "  <thead>\n",
       "    <tr style=\"text-align: right;\">\n",
       "      <th></th>\n",
       "      <th>temperature.csv</th>\n",
       "      <th>DepthInMeters</th>\n",
       "      <th>phosphate.csv</th>\n",
       "      <th>oxygen.csv</th>\n",
       "      <th>salinity.csv</th>\n",
       "      <th>nitrate.csv</th>\n",
       "    </tr>\n",
       "  </thead>\n",
       "  <tbody>\n",
       "    <tr>\n",
       "      <th>0</th>\n",
       "      <td>14.284375</td>\n",
       "      <td>277</td>\n",
       "      <td>0.756245</td>\n",
       "      <td>3.467705</td>\n",
       "      <td>35.649982</td>\n",
       "      <td>13.862911</td>\n",
       "    </tr>\n",
       "    <tr>\n",
       "      <th>1</th>\n",
       "      <td>10.845626</td>\n",
       "      <td>353</td>\n",
       "      <td>1.637408</td>\n",
       "      <td>2.733866</td>\n",
       "      <td>35.296623</td>\n",
       "      <td>25.430199</td>\n",
       "    </tr>\n",
       "    <tr>\n",
       "      <th>2</th>\n",
       "      <td>10.845586</td>\n",
       "      <td>354</td>\n",
       "      <td>1.637395</td>\n",
       "      <td>2.733871</td>\n",
       "      <td>35.296643</td>\n",
       "      <td>25.430279</td>\n",
       "    </tr>\n",
       "    <tr>\n",
       "      <th>3</th>\n",
       "      <td>10.855098</td>\n",
       "      <td>362</td>\n",
       "      <td>1.638615</td>\n",
       "      <td>2.733442</td>\n",
       "      <td>35.294186</td>\n",
       "      <td>25.422898</td>\n",
       "    </tr>\n",
       "    <tr>\n",
       "      <th>4</th>\n",
       "      <td>10.845626</td>\n",
       "      <td>353</td>\n",
       "      <td>1.637408</td>\n",
       "      <td>2.733866</td>\n",
       "      <td>35.296623</td>\n",
       "      <td>25.430199</td>\n",
       "    </tr>\n",
       "  </tbody>\n",
       "</table>\n",
       "</div>"
      ],
      "text/plain": [
       "   temperature.csv  DepthInMeters  phosphate.csv  oxygen.csv  salinity.csv  \\\n",
       "0        14.284375            277       0.756245    3.467705     35.649982   \n",
       "1        10.845626            353       1.637408    2.733866     35.296623   \n",
       "2        10.845586            354       1.637395    2.733871     35.296643   \n",
       "3        10.855098            362       1.638615    2.733442     35.294186   \n",
       "4        10.845626            353       1.637408    2.733866     35.296623   \n",
       "\n",
       "   nitrate.csv  \n",
       "0    13.862911  \n",
       "1    25.430199  \n",
       "2    25.430279  \n",
       "3    25.422898  \n",
       "4    25.430199  "
      ]
     },
     "execution_count": 185,
     "metadata": {},
     "output_type": "execute_result"
    }
   ],
   "source": [
    "X_full = data_train.loc[:,['temperature.csv', 'DepthInMeters', 'phosphate.csv', 'oxygen.csv', 'salinity.csv', 'nitrate.csv']]\n",
    "y_full = data_train.loc[:,\"species\"]\n",
    "\n",
    "X_full.head()\n",
    "X_full.head()"
   ]
  },
  {
   "cell_type": "code",
   "execution_count": 186,
   "metadata": {
    "_cell_guid": "e79131cd-af9f-47bc-8cc0-41539beaad8d",
    "_uuid": "f172fc2cf53f1d2a8abdc355810cde4e0b1aacaa",
    "collapsed": true
   },
   "outputs": [],
   "source": [
    "x_train, x_test, y_train, y_test = train_test_split(X_full, y_full, test_size = 0.3)"
   ]
  },
  {
   "cell_type": "code",
   "execution_count": 187,
   "metadata": {
    "_cell_guid": "715029d1-dbb0-4b4f-b561-2940af7c6b8b",
    "_uuid": "a9ef1b7565b452a157780333b349e9aa238e2a9d"
   },
   "outputs": [
    {
     "name": "stdout",
     "output_type": "stream",
     "text": [
      "('Training', (3500, 6), temperature.csv      26.448787\n",
      "DepthInMeters      2790.000000\n",
      "phosphate.csv         3.362834\n",
      "oxygen.csv            6.633403\n",
      "salinity.csv         38.437554\n",
      "nitrate.csv          43.975767\n",
      "dtype: float64)\n",
      "('Testing', (1500, 6), temperature.csv      25.277880\n",
      "DepthInMeters      2795.000000\n",
      "phosphate.csv         3.327653\n",
      "oxygen.csv            6.838360\n",
      "salinity.csv         36.854934\n",
      "nitrate.csv          43.363912\n",
      "dtype: float64)\n"
     ]
    }
   ],
   "source": [
    "# x_train = x_train.values.reshape(-1, 28, 28, 1).astype('float32') / 255.\n",
    "# x_test = x_test.values.reshape(-1, 28, 28, 1).astype('float32') / 255.\n",
    "# y_train = y_train.values.astype('int')\n",
    "# y_test = y_test.values.astype('int')\n",
    "print('Training', x_train.shape, x_train.max())\n",
    "print('Testing', x_test.shape, x_test.max())"
   ]
  },
  {
   "cell_type": "code",
   "execution_count": 188,
   "metadata": {
    "_cell_guid": "a8d657e3-188b-4e54-983d-d15d4b3bab35",
    "_uuid": "1a9921746a6218acb06843fafd0d6b5295f632af"
   },
   "outputs": [
    {
     "name": "stdout",
     "output_type": "stream",
     "text": [
      "('train groups:', [336, 307, 327, 306, 288, 317, 209, 276, 281, 288, 271, 294])\n",
      "('test groups:', [125, 148, 128, 123, 125, 139, 78, 111, 133, 141, 121, 128])\n"
     ]
    }
   ],
   "source": [
    "# reorganize by groups\n",
    "\n",
    "train_groups = [x_train.iloc[np.where(y_train==i)[0]].values for i in np.unique(y_train)]\n",
    "test_groups = [x_test.iloc[np.where(y_test==i)[0]].values for i in np.unique(y_train)]\n",
    "print('train groups:', [x.shape[0] for x in train_groups])\n",
    "print('test groups:', [x.shape[0] for x in test_groups])\n"
   ]
  },
  {
   "cell_type": "markdown",
   "metadata": {
    "_cell_guid": "f808e85d-a06f-46fd-bfa5-3abdd1891ac6",
    "_uuid": "f5e65ee27028b8a12dc0262b6dda46fc961da960"
   },
   "source": [
    "### Batch Generation\n",
    "Here the idea is to make usuable batches for training the network. We need to create parallel inputs for the $A$ and $B$ images where the output is the distance. Here we make the naive assumption that if images are in the same group the similarity is 1 otherwise it is 0.\n",
    "\n",
    "If we randomly selected all of the images we would likely end up with most images in different groups."
   ]
  },
  {
   "cell_type": "code",
   "execution_count": 189,
   "metadata": {
    "_cell_guid": "92363237-06a8-45fb-8fee-ca3cbfceee28",
    "_uuid": "be862af7ac7aed4d0750901f7607f99fa13ccd9f",
    "collapsed": true
   },
   "outputs": [],
   "source": [
    "def gen_random_batch(in_groups, batch_halfsize = 8):\n",
    "    out_img_a, out_img_b, out_score = [], [], []\n",
    "    all_groups = list(range(len(in_groups)))\n",
    "    for match_group in [True, False]:\n",
    "        group_idx = np.random.choice(all_groups, size = batch_halfsize)\n",
    "        out_img_a += [in_groups[c_idx][np.random.choice(range(in_groups[c_idx].shape[0]))] for c_idx in group_idx]\n",
    "        if match_group:\n",
    "            b_group_idx = group_idx\n",
    "            out_score += [1]*batch_halfsize\n",
    "        else:\n",
    "            # anything but the same group\n",
    "            non_group_idx = [np.random.choice([i for i in all_groups if i!=c_idx]) for c_idx in group_idx] \n",
    "            b_group_idx = non_group_idx\n",
    "            out_score += [0]*batch_halfsize\n",
    "            \n",
    "        out_img_b += [in_groups[c_idx][np.random.choice(range(in_groups[c_idx].shape[0]))] for c_idx in b_group_idx]\n",
    "            \n",
    "    return np.stack(out_img_a,0), np.stack(out_img_b,0), np.stack(out_score,0)"
   ]
  },
  {
   "cell_type": "markdown",
   "metadata": {
    "_cell_guid": "371eb798-eb9c-4318-a85e-99a437f13e9e",
    "_uuid": "9b7bea9e57008ba6d744e659cee7edaeecf63dcc"
   },
   "source": [
    "## Validate Data\n",
    "Here we make sure the generator is doing something sensible, we show the images and their similarity percentage."
   ]
  },
  {
   "cell_type": "code",
   "execution_count": 190,
   "metadata": {
    "_cell_guid": "724c5b9c-146e-4473-8a76-c9e71a3e461e",
    "_uuid": "59fcb14fe3e2dabc3891c77ab9c68f83bb0f8e90"
   },
   "outputs": [
    {
     "ename": "IndexError",
     "evalue": "too many indices for array",
     "output_type": "error",
     "traceback": [
      "\u001b[0;31m---------------------------------------------------------------------------\u001b[0m",
      "\u001b[0;31mIndexError\u001b[0m                                Traceback (most recent call last)",
      "\u001b[0;32m<ipython-input-190-e5945ad3f950>\u001b[0m in \u001b[0;36m<module>\u001b[0;34m()\u001b[0m\n\u001b[1;32m      3\u001b[0m \u001b[0;32mfor\u001b[0m \u001b[0mc_a\u001b[0m\u001b[0;34m,\u001b[0m \u001b[0mc_b\u001b[0m\u001b[0;34m,\u001b[0m \u001b[0mc_d\u001b[0m\u001b[0;34m,\u001b[0m \u001b[0;34m(\u001b[0m\u001b[0max1\u001b[0m\u001b[0;34m,\u001b[0m \u001b[0max2\u001b[0m\u001b[0;34m)\u001b[0m \u001b[0;32min\u001b[0m \u001b[0mzip\u001b[0m\u001b[0;34m(\u001b[0m\u001b[0mpv_a\u001b[0m\u001b[0;34m,\u001b[0m \u001b[0mpv_b\u001b[0m\u001b[0;34m,\u001b[0m \u001b[0mpv_sim\u001b[0m\u001b[0;34m,\u001b[0m \u001b[0mm_axs\u001b[0m\u001b[0;34m.\u001b[0m\u001b[0mT\u001b[0m\u001b[0;34m)\u001b[0m\u001b[0;34m:\u001b[0m\u001b[0;34m\u001b[0m\u001b[0m\n\u001b[1;32m      4\u001b[0m \u001b[0;31m#     ax1.imshow(c_a[:,:,0])\u001b[0m\u001b[0;34m\u001b[0m\u001b[0;34m\u001b[0m\u001b[0m\n\u001b[0;32m----> 5\u001b[0;31m     \u001b[0;32mprint\u001b[0m\u001b[0;34m(\u001b[0m\u001b[0mc_a\u001b[0m\u001b[0;34m[\u001b[0m\u001b[0;34m:\u001b[0m\u001b[0;34m,\u001b[0m\u001b[0;34m:\u001b[0m\u001b[0;34m]\u001b[0m\u001b[0;34m)\u001b[0m\u001b[0;34m\u001b[0m\u001b[0m\n\u001b[0m\u001b[1;32m      6\u001b[0m     \u001b[0max1\u001b[0m\u001b[0;34m.\u001b[0m\u001b[0mset_title\u001b[0m\u001b[0;34m(\u001b[0m\u001b[0;34m'Image A'\u001b[0m\u001b[0;34m)\u001b[0m\u001b[0;34m\u001b[0m\u001b[0m\n\u001b[1;32m      7\u001b[0m     \u001b[0max1\u001b[0m\u001b[0;34m.\u001b[0m\u001b[0maxis\u001b[0m\u001b[0;34m(\u001b[0m\u001b[0;34m'off'\u001b[0m\u001b[0;34m)\u001b[0m\u001b[0;34m\u001b[0m\u001b[0m\n",
      "\u001b[0;31mIndexError\u001b[0m: too many indices for array"
     ]
    },
    {
     "data": {
      "image/png": "[encoded data removed]",
      "text/plain": [
       "<Figure size 864x432 with 12 Axes>"
      ]
     },
     "metadata": {
      "needs_background": "light"
     },
     "output_type": "display_data"
    }
   ],
   "source": [
    "pv_a, pv_b, pv_sim = gen_random_batch(train_groups, 3)\n",
    "fig, m_axs = plt.subplots(2, pv_a.shape[0], figsize = (12, 6))\n",
    "for c_a, c_b, c_d, (ax1, ax2) in zip(pv_a, pv_b, pv_sim, m_axs.T):\n",
    "#     ax1.imshow(c_a[:,:,0])\n",
    "    print(c_a[:,:])\n",
    "    ax1.set_title('Image A')\n",
    "    ax1.axis('off')\n",
    "    print(c_b[:,:])\n",
    "#     ax2.imshow(c_b[:,:,0])\n",
    "    ax2.set_title('Image B\\n Similarity: %3.0f%%' % (100*c_d))\n",
    "    ax2.axis('off')"
   ]
  },
  {
   "cell_type": "markdown",
   "metadata": {
    "_cell_guid": "7ad59d9a-ed49-42bf-81c6-6c13801a6ba1",
    "_uuid": "d07aca571e287b5f7fa8a71c7f70cb6f62441b1e"
   },
   "source": [
    "# Feature Generation\n",
    "Here we make the feature generation network to process images into features. The network starts off randomly initialized and will be trained to generate useful vector features from input images (_hopefully_)"
   ]
  },
  {
   "cell_type": "code",
   "execution_count": 191,
   "metadata": {
    "_cell_guid": "f6ed64c0-ad8b-40d8-a5a0-b2c5a99ea460",
    "_uuid": "be64ceda9605e1dd493fe2b429172111a422bcf3"
   },
   "outputs": [
    {
     "name": "stdout",
     "output_type": "stream",
     "text": [
      "(6,)\n",
      "Tensor(\"FeatureNet_ImageInput_19:0\", shape=(?, 6), dtype=float32)\n",
      "_________________________________________________________________\n",
      "Layer (type)                 Output Shape              Param #   \n",
      "=================================================================\n",
      "FeatureNet_ImageInput (Input (None, 6)                 0         \n",
      "_________________________________________________________________\n",
      "dense_53 (Dense)             (None, 1)                 7         \n",
      "_________________________________________________________________\n",
      "dense_54 (Dense)             (None, 64)                128       \n",
      "_________________________________________________________________\n",
      "dense_55 (Dense)             (None, 32)                2080      \n",
      "_________________________________________________________________\n",
      "dropout_6 (Dropout)          (None, 32)                0         \n",
      "_________________________________________________________________\n",
      "batch_normalization_10 (Batc (None, 32)                128       \n",
      "_________________________________________________________________\n",
      "activation_10 (Activation)   (None, 32)                0         \n",
      "=================================================================\n",
      "Total params: 2,343\n",
      "Trainable params: 2,279\n",
      "Non-trainable params: 64\n",
      "_________________________________________________________________\n"
     ]
    }
   ],
   "source": [
    "from keras.models import Model\n",
    "from keras.layers import Input, Conv2D, BatchNormalization, MaxPool2D, Activation, Flatten, Dense, Dropout\n",
    "print( x_train.shape[1:])\n",
    "# img_in = Input(shape=x_train.shape[1:], name='FeatureNet_ImageInput')\n",
    "img_in = Input(shape=x_train.shape[1:], name='FeatureNet_ImageInput')\n",
    "\n",
    "n_layer = img_in\n",
    "print(n_layer)\n",
    "# x = Input(shape=(32,))\n",
    "# y = Dense(16, activation='softmax')(x)\n",
    "# model = Model(x, y)\n",
    "# for i in range(2):\n",
    "#     n_layer = Conv2D(8*2**i, kernel_size = (3,3), activation = 'linear')(n_layer)\n",
    "#     n_layer = BatchNormalization()(n_layer)\n",
    "#     n_layer = Activation('relu')(n_layer)\n",
    "#     n_layer = Conv2D(16*2**i, kernel_size = (3,3), activation = 'linear')(n_layer)\n",
    "#     n_layer = BatchNormalization()(n_layer)\n",
    "#     n_layer = Activation('relu')(n_layer)\n",
    "#     n_layer = MaxPool2D((2,2))(n_layer)\n",
    "for i in range(2):\n",
    "#     n_layer = Flatten(input_shape=(inputNb,))(n_layer)\n",
    "    n_layer = Dense(64**i, activation = 'relu')(n_layer)\n",
    "#     n_layer = Dense(64*i, activation = 'relu')(n_layer)\n",
    "# n_layer = Flatten()(n_layer)\n",
    "n_layer = Dense(32, activation = 'linear')(n_layer)\n",
    "n_layer = Dropout(0.5)(n_layer)\n",
    "n_layer = BatchNormalization()(n_layer)\n",
    "n_layer = Activation('relu')(n_layer)\n",
    "feature_model = Model(inputs = [img_in], outputs = [n_layer], name = 'FeatureGenerationModel')\n",
    "feature_model.summary()"
   ]
  },
  {
   "cell_type": "markdown",
   "metadata": {
    "_cell_guid": "8acfa1dc-9077-4fc9-8b6d-564f6a30729b",
    "_uuid": "8f84b5cf735c25b94286fc8f56b9ab45f36d3ba1"
   },
   "source": [
    "# Siamese Model\n",
    "We apply the feature generating model to both images and then combine them together to predict if they are similar or not. The model is designed to very simple. The ultimate idea is when a new image is taken that a feature vector can be calculated for it using the _FeatureGenerationModel_. All existing images have been pre-calculated and stored in a database of feature vectors. The model can be applied using a few vector additions and multiplications to determine the most similar images. These operations can be implemented as a stored procedure or similar task inside the database itself since they do not require an entire deep learning framework to run."
   ]
  },
  {
   "cell_type": "code",
   "execution_count": 192,
   "metadata": {
    "_cell_guid": "dc5ea3d4-1d80-4cca-8e7b-d1c58dd458a7",
    "_uuid": "c5ddc93960b88d6a983a18e1a1c807314ad150b9"
   },
   "outputs": [
    {
     "name": "stdout",
     "output_type": "stream",
     "text": [
      "__________________________________________________________________________________________________\n",
      "Layer (type)                    Output Shape         Param #     Connected to                     \n",
      "==================================================================================================\n",
      "ImageA_Input (InputLayer)       (None, 6)            0                                            \n",
      "__________________________________________________________________________________________________\n",
      "ImageB_Input (InputLayer)       (None, 6)            0                                            \n",
      "__________________________________________________________________________________________________\n",
      "FeatureGenerationModel (Model)  (None, 32)           2343        ImageA_Input[0][0]               \n",
      "                                                                 ImageB_Input[0][0]               \n",
      "__________________________________________________________________________________________________\n",
      "merge_features (Concatenate)    (None, 64)           0           FeatureGenerationModel[1][0]     \n",
      "                                                                 FeatureGenerationModel[2][0]     \n",
      "__________________________________________________________________________________________________\n",
      "dense_56 (Dense)                (None, 16)           1040        merge_features[0][0]             \n",
      "__________________________________________________________________________________________________\n",
      "batch_normalization_11 (BatchNo (None, 16)           64          dense_56[0][0]                   \n",
      "__________________________________________________________________________________________________\n",
      "activation_11 (Activation)      (None, 16)           0           batch_normalization_11[0][0]     \n",
      "__________________________________________________________________________________________________\n",
      "dense_57 (Dense)                (None, 4)            68          activation_11[0][0]              \n",
      "__________________________________________________________________________________________________\n",
      "batch_normalization_12 (BatchNo (None, 4)            16          dense_57[0][0]                   \n",
      "__________________________________________________________________________________________________\n",
      "activation_12 (Activation)      (None, 4)            0           batch_normalization_12[0][0]     \n",
      "__________________________________________________________________________________________________\n",
      "dense_58 (Dense)                (None, 1)            5           activation_12[0][0]              \n",
      "==================================================================================================\n",
      "Total params: 3,536\n",
      "Trainable params: 3,432\n",
      "Non-trainable params: 104\n",
      "__________________________________________________________________________________________________\n"
     ]
    }
   ],
   "source": [
    "from keras.layers import concatenate\n",
    "img_a_in = Input(shape = x_train.shape[1:], name = 'ImageA_Input')\n",
    "img_b_in = Input(shape = x_train.shape[1:], name = 'ImageB_Input')\n",
    "img_a_feat = feature_model(img_a_in)\n",
    "img_b_feat = feature_model(img_b_in)\n",
    "combined_features = concatenate([img_a_feat, img_b_feat], name = 'merge_features')\n",
    "combined_features = Dense(16, activation = 'linear')(combined_features)\n",
    "combined_features = BatchNormalization()(combined_features)\n",
    "combined_features = Activation('relu')(combined_features)\n",
    "combined_features = Dense(4, activation = 'linear')(combined_features)\n",
    "combined_features = BatchNormalization()(combined_features)\n",
    "combined_features = Activation('relu')(combined_features)\n",
    "combined_features = Dense(1, activation = 'sigmoid')(combined_features)\n",
    "similarity_model = Model(inputs = [img_a_in, img_b_in], outputs = [combined_features], name = 'Similarity_Model')\n",
    "similarity_model.summary()"
   ]
  },
  {
   "cell_type": "code",
   "execution_count": 193,
   "metadata": {
    "_cell_guid": "9a479eeb-bfa2-4a17-9e4d-154799d0300d",
    "_uuid": "bf91b28c1dac2b28f34569e9b3ca856d1152f4a9",
    "collapsed": true
   },
   "outputs": [],
   "source": [
    "# setup the optimization process\n",
    "similarity_model.compile(optimizer='adam', loss = 'binary_crossentropy', metrics = ['mae'])"
   ]
  },
  {
   "cell_type": "markdown",
   "metadata": {},
   "source": [
    "## Visual Model Feedback\n",
    "Here we visualize what the model does by taking a small sample of randomly selected A and B images the first half from the same category and the second from different categories. We then show the actual distance (0 for the same category and 1 for different categories) as well as the model predicted distance. The first run here is with a completely untrained network so we do not expect meaningful results."
   ]
  },
  {
   "cell_type": "code",
   "execution_count": 214,
   "metadata": {},
   "outputs": [
    {
     "name": "stdout",
     "output_type": "stream",
     "text": [
      "A: 20.93;75.00;0.16;4.49;36.14;2.39\n",
      "B: 21.05;67.00;0.07;4.77;36.18;0.72  Predicted:  87% \n",
      "\n",
      "A: 8.40;511.00;2.09;2.95;35.00;28.92\n",
      "B: 8.40;510.00;2.09;2.95;35.00;28.92  Predicted:  68% \n",
      "\n",
      "A: 10.72;598.00;1.66;3.29;35.62;26.42\n",
      "B: 9.73;421.00;1.30;2.97;34.42;24.25  Predicted:  67% \n",
      "\n",
      "A: 20.92;73.00;0.16;4.49;36.14;2.39\n",
      "B: 21.09;71.00;0.14;4.55;36.14;1.95  Predicted:  87% \n",
      "\n",
      "A: 4.55;105.00;1.81;6.05;32.22;16.72\n",
      "B: 19.97;84.00;0.23;4.26;36.17;4.22  Predicted:  87% \n",
      "\n",
      "A: 21.09;72.00;0.14;4.55;36.14;1.95\n",
      "B: 9.24;452.00;1.46;4.03;34.14;19.64  Predicted:  13% \n",
      "\n"
     ]
    }
   ],
   "source": [
    "def show_model_output(nb_examples = 3):\n",
    "    pv_a, pv_b, pv_sim = gen_random_batch(test_groups, nb_examples)\n",
    "    pred_sim = similarity_model.predict([pv_a, pv_b])\n",
    "#     fig, m_axs = plt.subplots(2, pv_a.shape[0], figsize = (12, 6))\n",
    "    for c_a, c_b, c_d, p_d, (ax1, ax2) in zip(pv_a, pv_b, pv_sim, pred_sim, m_axs.T):\n",
    "        print(\"A: \" + \";\".join((\"{:.2f}\").format(i) for i in c_a))\n",
    "        print(\"B: \" + \";\".join((\"{:.2f}\").format(i) for i in c_b) + '  Predicted: %3.0f%% \\n' % (100*p_d))\n",
    "#         print('Image A\\n Actual: %3.0f%%' % (100*c_d))\n",
    "#         ax1.axis('off')\n",
    "#         print(c_b[:])\n",
    "# #         ax2.imshow(c_b[:,:,0])\n",
    "#         ax2.set_title('Image B\\n Predicted: %3.0f%%' % (100*p_d))\n",
    "#         ax2.axis('off')\n",
    "#     return fig\n",
    "# a completely untrained model\n",
    "_ = show_model_output()"
   ]
  },
  {
   "cell_type": "code",
   "execution_count": 215,
   "metadata": {
    "_cell_guid": "9e2f2557-63c3-4c35-83bf-bd38351e1867",
    "_uuid": "7dbe0850a234b0763f9f00eb6949588af1e899bb"
   },
   "outputs": [
    {
     "name": "stdout",
     "output_type": "stream",
     "text": [
      "Epoch 1/10\n",
      "500/500 [==============================] - 2s 4ms/step - loss: 0.5451 - mean_absolute_error: 0.3696 - val_loss: 0.5194 - val_mean_absolute_error: 0.3648\n",
      "Epoch 2/10\n",
      "500/500 [==============================] - 2s 4ms/step - loss: 0.5457 - mean_absolute_error: 0.3704 - val_loss: 0.5025 - val_mean_absolute_error: 0.3451\n",
      "Epoch 3/10\n",
      "500/500 [==============================] - 2s 4ms/step - loss: 0.5416 - mean_absolute_error: 0.3663 - val_loss: 0.4985 - val_mean_absolute_error: 0.3446\n",
      "Epoch 4/10\n",
      "500/500 [==============================] - 2s 4ms/step - loss: 0.5377 - mean_absolute_error: 0.3636 - val_loss: 0.5011 - val_mean_absolute_error: 0.3458\n",
      "Epoch 5/10\n",
      "500/500 [==============================] - 2s 4ms/step - loss: 0.5347 - mean_absolute_error: 0.3617 - val_loss: 0.4976 - val_mean_absolute_error: 0.3451\n",
      "Epoch 6/10\n",
      "500/500 [==============================] - 2s 4ms/step - loss: 0.5218 - mean_absolute_error: 0.3540 - val_loss: 0.4871 - val_mean_absolute_error: 0.3358\n",
      "Epoch 7/10\n",
      "500/500 [==============================] - 2s 4ms/step - loss: 0.5276 - mean_absolute_error: 0.3548 - val_loss: 0.5006 - val_mean_absolute_error: 0.3445\n",
      "Epoch 8/10\n",
      "500/500 [==============================] - 2s 4ms/step - loss: 0.5266 - mean_absolute_error: 0.3540 - val_loss: 0.5031 - val_mean_absolute_error: 0.3478\n",
      "Epoch 9/10\n",
      "500/500 [==============================] - 2s 4ms/step - loss: 0.5244 - mean_absolute_error: 0.3523 - val_loss: 0.4856 - val_mean_absolute_error: 0.3333\n",
      "Epoch 10/10\n",
      "500/500 [==============================] - 2s 4ms/step - loss: 0.5138 - mean_absolute_error: 0.3459 - val_loss: 0.4809 - val_mean_absolute_error: 0.3258\n"
     ]
    }
   ],
   "source": [
    "# make a generator out of the data\n",
    "def siam_gen(in_groups, batch_size = 32):\n",
    "    while True:\n",
    "        pv_a, pv_b, pv_sim = gen_random_batch(train_groups, batch_size//2)\n",
    "        yield [pv_a, pv_b], pv_sim\n",
    "# we want a constant validation group to have a frame of reference for model performance\n",
    "test_groups\n",
    "valid_a, valid_b, valid_sim = gen_random_batch(test_groups, 1024)\n",
    "loss_history = similarity_model.fit_generator(siam_gen(train_groups), \n",
    "                               steps_per_epoch = 500,\n",
    "                               validation_data=([valid_a, valid_b], valid_sim),\n",
    "                                              epochs = 10,\n",
    "                                             verbose = True)"
   ]
  },
  {
   "cell_type": "code",
   "execution_count": 216,
   "metadata": {
    "_cell_guid": "40b32060-c873-4f29-bd3a-65a7dc64f88e",
    "_uuid": "8f7b141665f09e06954f50583f43481e34c1e66a"
   },
   "outputs": [
    {
     "name": "stdout",
     "output_type": "stream",
     "text": [
      "A: 2.39;1661.00;2.94;1.83;34.57;41.98\n",
      "B: 4.24;980.00;3.05;1.12;34.52;42.13  Predicted:  77% \n",
      "\n",
      "A: 20.92;73.00;0.16;4.49;36.14;2.39\n",
      "B: 21.34;62.00;0.07;4.78;36.17;0.71  Predicted:  87% \n",
      "\n",
      "A: 9.24;440.00;1.87;2.76;35.09;28.63\n",
      "B: 10.85;358.00;1.64;2.73;35.30;25.43  Predicted:  69% \n",
      "\n",
      "A: 10.28;352.00;1.50;3.78;34.15;17.75\n",
      "B: 12.25;300.00;1.48;2.93;35.47;20.83  Predicted:  69% \n",
      "\n",
      "A: 8.27;510.00;1.90;2.85;35.00;29.69\n",
      "B: 11.60;310.00;1.34;3.88;34.18;14.33  Predicted:  60% \n",
      "\n",
      "A: 3.79;403.00;3.00;1.41;33.98;29.78\n",
      "B: 10.85;362.00;1.64;2.73;35.30;25.43  Predicted:  69% \n",
      "\n"
     ]
    }
   ],
   "source": [
    "_ = show_model_output()"
   ]
  },
  {
   "cell_type": "markdown",
   "metadata": {},
   "source": [
    "# T-Shirt vs Ankle Boot-Plot\n",
    "Here we take an random t-shirt and ankle boot (categories 0 and 9) images and calculate the distance using our network to the other images"
   ]
  },
  {
   "cell_type": "code",
   "execution_count": 217,
   "metadata": {},
   "outputs": [
    {
     "name": "stdout",
     "output_type": "stream",
     "text": [
      "1500/1500 [==============================] - 0s 8us/step\n",
      "1500/1500 [==============================] - 0s 13us/step\n"
     ]
    }
   ],
   "source": [
    "t_shirt_vec = np.stack([train_groups[0][0]]*x_test.shape[0],0)\n",
    "t_shirt_score = similarity_model.predict([t_shirt_vec, x_test], verbose = True, batch_size = 128)\n",
    "ankle_boot_vec = np.stack([train_groups[-1][0]]*x_test.shape[0],0)\n",
    "ankle_boot_score = similarity_model.predict([ankle_boot_vec, x_test], verbose = True, batch_size = 128)"
   ]
  },
  {
   "cell_type": "code",
   "execution_count": 218,
   "metadata": {},
   "outputs": [
    {
     "data": {
      "image/png": "[encoded data removed]",
      "text/plain": [
       "<Figure size 720x720 with 1 Axes>"
      ]
     },
     "metadata": {
      "needs_background": "light"
     },
     "output_type": "display_data"
    }
   ],
   "source": [
    "obj_categories = ['T-shirt/top','Trouser','Pullover','Dress',\n",
    "                  'Coat','Sandal','Shirt','Sneaker','Bag','Ankle boot'\n",
    "                 ]\n",
    "colors = plt.cm.rainbow(np.linspace(0, 1, 10))\n",
    "plt.figure(figsize=(10, 10))\n",
    "\n",
    "for c_group, (c_color, c_label) in enumerate(zip(colors, obj_categories)):\n",
    "    plt.scatter(t_shirt_score[np.where(y_test == c_group), 0],\n",
    "                ankle_boot_score[np.where(y_test == c_group), 0],\n",
    "                marker='.',\n",
    "                color=c_color,\n",
    "                linewidth='1',\n",
    "                alpha=0.8,\n",
    "                label=c_label)\n",
    "plt.xlabel('T-Shirt Dimension')\n",
    "plt.ylabel('Ankle-Boot Dimension')\n",
    "plt.title('T-Shirt and Ankle-Boot Dimension')\n",
    "plt.legend(loc='best')\n",
    "plt.savefig('tshirt-boot-dist.png')\n",
    "plt.show(block=False)"
   ]
  },
  {
   "cell_type": "markdown",
   "metadata": {
    "_cell_guid": "fbf9e442-4604-4a4d-b8b5-9d30cb99299e",
    "_uuid": "37934c83ab75a0930e1f6ec1e5dc1303e29869c3"
   },
   "source": [
    "## Examining the Features\n",
    "Here we aim to answer the more general question: did we generate useful features with the Feature Generation model? And how can we visualize this."
   ]
  },
  {
   "cell_type": "code",
   "execution_count": null,
   "metadata": {
    "_cell_guid": "f6fba813-fcec-427d-a69a-f99f574c846b",
    "_uuid": "1639aebf47636318e0ab22ad206fbe538e758338",
    "collapsed": true
   },
   "outputs": [],
   "source": [
    "x_test_features = feature_model.predict(x_test, verbose = True, batch_size=128)"
   ]
  },
  {
   "cell_type": "markdown",
   "metadata": {},
   "source": [
    "## Neighbor Visualization\n",
    "For this we use the TSNE neighborhood embedding to visualize the features on a 2D plane and see if it roughly corresponds to the groups. We use the test data for this example as well since the training has been contaminated"
   ]
  },
  {
   "cell_type": "code",
   "execution_count": null,
   "metadata": {
    "_cell_guid": "e851958f-df6f-4efe-9653-da2a5b6251ca",
    "_uuid": "7adba53e5b837d6efca4d022067d2c7c3a8109ba",
    "collapsed": true,
    "scrolled": true
   },
   "outputs": [],
   "source": [
    "%%time\n",
    "from sklearn.manifold import TSNE\n",
    "tsne_obj = TSNE(n_components=2,\n",
    "                         init='pca',\n",
    "                         random_state=101,\n",
    "                         method='barnes_hut',\n",
    "                         n_iter=500,\n",
    "                         verbose=2)\n",
    "tsne_features = tsne_obj.fit_transform(x_test_features)"
   ]
  },
  {
   "cell_type": "code",
   "execution_count": null,
   "metadata": {
    "_cell_guid": "c1681b97-5607-4051-a8d1-efbe2a4c1ad8",
    "_uuid": "26ea6aec333510280b143c870bc37e3fc4263b84",
    "collapsed": true
   },
   "outputs": [],
   "source": [
    "obj_categories = ['T-shirt/top','Trouser','Pullover','Dress',\n",
    "                  'Coat','Sandal','Shirt','Sneaker','Bag','Ankle boot'\n",
    "                 ]\n",
    "colors = plt.cm.rainbow(np.linspace(0, 1, 10))\n",
    "plt.figure(figsize=(10, 10))\n",
    "\n",
    "for c_group, (c_color, c_label) in enumerate(zip(colors, obj_categories)):\n",
    "    plt.scatter(tsne_features[np.where(y_test == c_group), 0],\n",
    "                tsne_features[np.where(y_test == c_group), 1],\n",
    "                marker='o',\n",
    "                color=c_color,\n",
    "                linewidth='1',\n",
    "                alpha=0.8,\n",
    "                label=c_label)\n",
    "plt.xlabel('Dimension 1')\n",
    "plt.ylabel('Dimension 2')\n",
    "plt.title('t-SNE on Testing Samples')\n",
    "plt.legend(loc='best')\n",
    "plt.savefig('clothes-dist.png')\n",
    "plt.show(block=False)"
   ]
  },
  {
   "cell_type": "code",
   "execution_count": null,
   "metadata": {
    "_cell_guid": "e5363761-e430-4931-850e-c969bc7e4310",
    "_uuid": "2d30521ad626f9f6b5492f1a10a4bef6e276a0b3",
    "collapsed": true
   },
   "outputs": [],
   "source": [
    "feature_model.save('fashion_feature_model.h5')"
   ]
  },
  {
   "cell_type": "code",
   "execution_count": null,
   "metadata": {
    "_cell_guid": "1ef2bc89-e47d-4260-b2d9-8fa5177921ca",
    "_uuid": "8a98c77220863cd966a0f720aa06a7ca64567b2f",
    "collapsed": true
   },
   "outputs": [],
   "source": [
    "similarity_model.save('fashion_similarity_model.h5')"
   ]
  }
 ],
 "metadata": {
  "kernelspec": {
   "display_name": "Python 3",
   "language": "python",
   "name": "python3"
  },
  "language_info": {
   "codemirror_mode": {
    "name": "ipython",
    "version": 2
   },
   "file_extension": ".py",
   "mimetype": "text/x-python",
   "name": "python",
   "nbconvert_exporter": "python",
   "pygments_lexer": "ipython2",
   "version": "2.7.12"
  }
 },
 "nbformat": 4,
 "nbformat_minor": 2
}
