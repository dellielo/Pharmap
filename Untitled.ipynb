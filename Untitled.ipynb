{
 "cells": [
  {
   "cell_type": "code",
   "execution_count": 8,
   "metadata": {},
   "outputs": [
    {
     "name": "stdout",
     "output_type": "stream",
     "text": [
      "{'phylum': {'id': 558, 'name': 'Porifera'}, 'genus': {'id': 132064, 'name': 'Aaptos'}, 'class': {'id': 164811, 'name': 'Demospongiae'}, 'species': {'id': 134241, 'name': 'Aaptos aaptos'}, 'family': {'id': 131676, 'name': 'Suberitidae'}, 'kingdom': {'id': 2, 'name': 'Animalia'}, 'order': {'id': 845509, 'name': 'Suberitida'}, 'subclass': {'id': 607950, 'name': 'Heteroscleromorpha'}}\n"
     ]
    }
   ],
   "source": [
    "import urllib\n",
    "import json\n",
    "\n",
    "def fetchTaxonomy(ID):\n",
    "    url = \"http://www.marinespecies.org/rest/AphiaClassificationByAphiaID/{ID}?marine_only=true\".format(ID = ID)\n",
    "    try:\n",
    "        answer = urllib.request.urlopen(url).read().decode('utf8').replace(\"'\", '\"')\n",
    "    except Exception as e:\n",
    "        print(e)\n",
    "        print(\"Couldn't fetch Taxonomy, abort...\")\n",
    "    data = json.loads(answer)\n",
    "    taxo = {}\n",
    "    x = data\n",
    "    while x['child'] is not None: \n",
    "        x = x['child']\n",
    "        taxo[x['rank'].lower()] = {\"name\":x['scientificname'], \"id\":x[\"AphiaID\"]}\n",
    "    return taxo\n",
    "\n",
    "a = fetchTaxonomy(134241)\n"
   ]
  },
  {
   "cell_type": "code",
   "execution_count": 11,
   "metadata": {},
   "outputs": [
    {
     "data": {
      "text/plain": [
       "'Porifera'"
      ]
     },
     "execution_count": 11,
     "metadata": {},
     "output_type": "execute_result"
    }
   ],
   "source": [
    "a[\"phylum\"][\"name\"]"
   ]
  }
 ],
 "metadata": {
  "kernelspec": {
   "display_name": "Python 3",
   "language": "python",
   "name": "python3"
  },
  "language_info": {
   "codemirror_mode": {
    "name": "ipython",
    "version": 3
   },
   "file_extension": ".py",
   "mimetype": "text/x-python",
   "name": "python",
   "nbconvert_exporter": "python",
   "pygments_lexer": "ipython3",
   "version": "3.5.6"
  }
 },
 "nbformat": 4,
 "nbformat_minor": 2
}
